{
 "cells": [
  {
   "cell_type": "markdown",
   "source": [
    "# Cropping example"
   ],
   "metadata": {}
  },
  {
   "cell_type": "code",
   "execution_count": 1,
   "source": [
    "from tensorflow.keras.models import Sequential\r\n",
    "from tensorflow.keras.layers import Cropping2D\r\n",
    "from tensorflow.keras.datasets import mnist\r\n",
    "import matplotlib.pyplot as plt\r\n",
    "import numpy as np\r\n",
    "\r\n",
    "# Load MNIST data\r\n",
    "(x_train, y_train), (x_test, y_test) = mnist.load_data()\r\n",
    "input_image_shape = (28, 28, 1)\r\n",
    "input_image = x_train[25].reshape(input_image_shape)\r\n",
    "\r\n",
    "# Create the model\r\n",
    "model = Sequential()\r\n",
    "model.add(Cropping2D(cropping=((5, 5), (5, 5)), input_shape=input_image_shape))\r\n",
    "model.summary()\r\n",
    "\r\n",
    "# Perform actual cropping\r\n",
    "model_inputs = np.array([input_image])\r\n",
    "outputs_cropped = model.predict(model_inputs)\r\n",
    "\r\n",
    "# Get output\r\n",
    "outputs_cropped = outputs_cropped[0]\r\n",
    "\r\n",
    "# Visualize input and output\r\n",
    "fig, axes = plt.subplots(1, 2)\r\n",
    "axes[0].imshow(input_image[:, :, 0]) \r\n",
    "axes[0].set_title('Original image')\r\n",
    "axes[1].imshow(outputs_cropped[:, :, 0])\r\n",
    "axes[1].set_title('Cropped input')\r\n",
    "fig.suptitle(f'Original and cropped input')\r\n",
    "fig.set_size_inches(9, 5, forward=True)\r\n",
    "plt.show()"
   ],
   "outputs": [
    {
     "output_type": "stream",
     "name": "stdout",
     "text": [
      "Model: \"sequential\"\n",
      "_________________________________________________________________\n",
      "Layer (type)                 Output Shape              Param #   \n",
      "=================================================================\n",
      "cropping2d (Cropping2D)      (None, 18, 18, 1)         0         \n",
      "=================================================================\n",
      "Total params: 0\n",
      "Trainable params: 0\n",
      "Non-trainable params: 0\n",
      "_________________________________________________________________\n"
     ]
    },
    {
     "output_type": "display_data",
     "data": {
      "image/png": "[encoded data removed]",
      "text/plain": [
       "<Figure size 648x360 with 2 Axes>"
      ]
     },
     "metadata": {
      "needs_background": "light"
     }
    }
   ],
   "metadata": {}
  }
 ],
 "metadata": {
  "orig_nbformat": 4,
  "language_info": {
   "name": "python",
   "version": "3.8.0",
   "mimetype": "text/x-python",
   "codemirror_mode": {
    "name": "ipython",
    "version": 3
   },
   "pygments_lexer": "ipython3",
   "nbconvert_exporter": "python",
   "file_extension": ".py"
  },
  "kernelspec": {
   "name": "python3",
   "display_name": "Python 3.8.0 64-bit ('cesi_env': conda)"
  },
  "interpreter": {
   "hash": "04a40985959a3a96312bbbdc3078c8d0e659d303c6760aa3521551ab3d2f5475"
  }
 },
 "nbformat": 4,
 "nbformat_minor": 2
}